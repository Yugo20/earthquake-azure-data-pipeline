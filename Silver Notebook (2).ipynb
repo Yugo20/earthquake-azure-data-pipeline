{
  "cells": [
    {
      "cell_type": "code",
      "source": [
        "import json\n",
        "\n",
        "# Access parameters directly\n",
        "bronze_output = \"\""
      ],
      "outputs": [],
      "execution_count": null,
      "metadata": {
        "jupyter": {
          "source_hidden": false,
          "outputs_hidden": false
        },
        "nteract": {
          "transient": {
            "deleting": false
          }
        },
        "tags": [
          "parameters"
        ]
      }
    },
    {
      "cell_type": "code",
      "source": [
        "# Parse the JSON string\n",
        "output_data = json.loads(bronze_output)\n",
        "\n",
        "# Access individual variables\n",
        "start_date = output_data.get(\"start_date\")\n",
        "silver_adls = output_data.get(\"silver_adls\")\n",
        "bronze_adls = output_data.get(\"bronze_adls\")\n",
        "\n",
        "print(f\"Start Date: {start_date}\")\n",
        "print(f\"Silver ADLS: {silver_adls}\")\n",
        "print(f\"Bronze ADLS: {bronze_adls}\")"
      ],
      "outputs": [],
      "execution_count": null,
      "metadata": {
        "jupyter": {
          "source_hidden": false,
          "outputs_hidden": false
        },
        "nteract": {
          "transient": {
            "deleting": false
          }
        }
      }
    },
    {
      "cell_type": "code",
      "source": [
        "''' from datetime import date, timedelta\n",
        "\n",
        "# Remove this before running Data Factory Pipeline\n",
        "start_date = bronze_output[]\n",
        "\n",
        "bronze_adls = \"abfss://bronze@synonly.dfs.core.windows.net/\"\n",
        "silver_adls = \"abfss://silver@synonly.dfs.core.windows.net/\"\n",
        "'''"
      ],
      "outputs": [
        {
          "output_type": "display_data",
          "data": {
            "application/vnd.livy.statement-meta+json": {
              "spark_pool": "synonly",
              "statement_id": 2,
              "statement_ids": [
                2
              ],
              "state": "finished",
              "livy_statement_state": "available",
              "spark_jobs": null,
              "session_id": "15",
              "normalized_state": "finished",
              "queued_time": "2025-01-12T10:34:37.5683183Z",
              "session_start_time": "2025-01-12T10:34:37.6111641Z",
              "execution_start_time": "2025-01-12T10:35:25.7955512Z",
              "execution_finish_time": "2025-01-12T10:35:25.9507716Z",
              "parent_msg_id": "7b2a6508-b82f-4200-8325-6f6458da02e7"
            },
            "text/plain": "StatementMeta(synonly, 15, 2, Finished, Available, Finished)"
          },
          "metadata": {}
        }
      ],
      "execution_count": 46,
      "metadata": {
        "application/vnd.databricks.v1+cell": {
          "cellMetadata": {
            "byteLimit": 2048000,
            "rowLimit": 10000
          },
          "inputWidgets": {},
          "nuid": "ac06ba16-db9d-4864-9d82-ea20f734d452",
          "showTitle": false,
          "tableResultSettingsMap": {},
          "title": ""
        },
        "tags": []
      }
    },
    {
      "cell_type": "code",
      "source": [
        "from pyspark.sql.functions import col, isnull, when\n",
        "from pyspark.sql.types import TimestampType\n",
        "from datetime import date, timedelta"
      ],
      "outputs": [
        {
          "output_type": "display_data",
          "data": {
            "application/vnd.livy.statement-meta+json": {
              "spark_pool": "synonly",
              "statement_id": 3,
              "statement_ids": [
                3
              ],
              "state": "finished",
              "livy_statement_state": "available",
              "spark_jobs": null,
              "session_id": "15",
              "normalized_state": "finished",
              "queued_time": "2025-01-12T10:34:37.616107Z",
              "session_start_time": null,
              "execution_start_time": "2025-01-12T10:35:26.0799458Z",
              "execution_finish_time": "2025-01-12T10:35:26.2308828Z",
              "parent_msg_id": "a9ede488-e40a-4b3a-bf09-1a4e02e044d8"
            },
            "text/plain": "StatementMeta(synonly, 15, 3, Finished, Available, Finished)"
          },
          "metadata": {}
        }
      ],
      "execution_count": 47,
      "metadata": {
        "application/vnd.databricks.v1+cell": {
          "cellMetadata": {
            "byteLimit": 2048000,
            "rowLimit": 10000
          },
          "inputWidgets": {},
          "nuid": "78f3ec41-67d6-43e4-be7b-fff8c913b983",
          "showTitle": false,
          "tableResultSettingsMap": {},
          "title": ""
        }
      }
    },
    {
      "cell_type": "code",
      "source": [
        "# Load the JSON data into a Spark DataFrame\n",
        "df = spark.read.option(\"multiline\", \"true\").json(f\"{bronze_adls}{start_date}_earthquake_data.json\")"
      ],
      "outputs": [
        {
          "output_type": "display_data",
          "data": {
            "application/vnd.livy.statement-meta+json": {
              "spark_pool": "synonly",
              "statement_id": 4,
              "statement_ids": [
                4
              ],
              "state": "finished",
              "livy_statement_state": "available",
              "spark_jobs": null,
              "session_id": "15",
              "normalized_state": "finished",
              "queued_time": "2025-01-12T10:34:37.6507168Z",
              "session_start_time": null,
              "execution_start_time": "2025-01-12T10:35:26.3578852Z",
              "execution_finish_time": "2025-01-12T10:35:34.9330877Z",
              "parent_msg_id": "60ea00cb-62ae-451b-944d-eec40b1fdc2b"
            },
            "text/plain": "StatementMeta(synonly, 15, 4, Finished, Available, Finished)"
          },
          "metadata": {}
        }
      ],
      "execution_count": 48,
      "metadata": {
        "application/vnd.databricks.v1+cell": {
          "cellMetadata": {
            "byteLimit": 2048000,
            "rowLimit": 10000
          },
          "inputWidgets": {},
          "nuid": "75eaa9de-a294-474e-b485-6862f0a2aff2",
          "showTitle": false,
          "tableResultSettingsMap": {},
          "title": ""
        }
      }
    },
    {
      "cell_type": "code",
      "source": [
        "df"
      ],
      "outputs": [
        {
          "output_type": "display_data",
          "data": {
            "application/vnd.livy.statement-meta+json": {
              "spark_pool": "synonly",
              "statement_id": 5,
              "statement_ids": [
                5
              ],
              "state": "finished",
              "livy_statement_state": "available",
              "spark_jobs": null,
              "session_id": "15",
              "normalized_state": "finished",
              "queued_time": "2025-01-12T10:34:37.6902509Z",
              "session_start_time": null,
              "execution_start_time": "2025-01-12T10:35:35.0667Z",
              "execution_finish_time": "2025-01-12T10:35:35.2119406Z",
              "parent_msg_id": "c6f4c2be-9866-407e-b312-406ebf65efcc"
            },
            "text/plain": "StatementMeta(synonly, 15, 5, Finished, Available, Finished)"
          },
          "metadata": {}
        },
        {
          "output_type": "execute_result",
          "execution_count": 11,
          "data": {
            "text/plain": "DataFrame[geometry: struct<coordinates:array<double>,type:string>, id: string, properties: struct<code:string,detail:string,dmin:double,gap:double,ids:string,mag:double,magType:string,net:string,nst:bigint,place:string,rms:double,sig:bigint,sources:string,status:string,time:bigint,title:string,tsunami:bigint,type:string,types:string,updated:bigint,url:string>, type: string]"
          },
          "metadata": {}
        }
      ],
      "execution_count": 49,
      "metadata": {
        "application/vnd.databricks.v1+cell": {
          "cellMetadata": {
            "byteLimit": 2048000,
            "rowLimit": 10000
          },
          "inputWidgets": {},
          "nuid": "9dfbf91f-6a36-42c6-b3a5-4f6222b9cdb0",
          "showTitle": false,
          "tableResultSettingsMap": {},
          "title": ""
        }
      }
    },
    {
      "cell_type": "code",
      "source": [
        "df.head()"
      ],
      "outputs": [
        {
          "output_type": "display_data",
          "data": {
            "application/vnd.livy.statement-meta+json": {
              "spark_pool": "synonly",
              "statement_id": 6,
              "statement_ids": [
                6
              ],
              "state": "finished",
              "livy_statement_state": "available",
              "spark_jobs": null,
              "session_id": "15",
              "normalized_state": "finished",
              "queued_time": "2025-01-12T10:34:37.7562073Z",
              "session_start_time": null,
              "execution_start_time": "2025-01-12T10:35:35.3561304Z",
              "execution_finish_time": "2025-01-12T10:35:38.131468Z",
              "parent_msg_id": "ef618368-97b8-44c2-bb6f-b8be859aebb1"
            },
            "text/plain": "StatementMeta(synonly, 15, 6, Finished, Available, Finished)"
          },
          "metadata": {}
        },
        {
          "output_type": "execute_result",
          "execution_count": 13,
          "data": {
            "text/plain": "Row(geometry=Row(coordinates=[-116.1651667, 33.2081667, 7.72], type='Point'), id='ci40838207', properties=Row(code='40838207', detail='https://earthquake.usgs.gov/fdsnws/event/1/query?eventid=ci40838207&format=geojson', dmin=0.2636, gap=186.0, ids=',ci40838207,', mag=1.13, magType='ml', net='ci', nst=11, place='8 km NNW of Ocotillo Wells, CA', rms=0.2, sig=20, sources=',ci,', status='automatic', time=1736639492580, title='M 1.1 - 8 km NNW of Ocotillo Wells, CA', tsunami=0, type='earthquake', types=',nearby-cities,origin,phase-data,scitech-link,', updated=1736639790427, url='https://earthquake.usgs.gov/earthquakes/eventpage/ci40838207'), type='Feature')"
          },
          "metadata": {}
        }
      ],
      "execution_count": 50,
      "metadata": {
        "application/vnd.databricks.v1+cell": {
          "cellMetadata": {
            "byteLimit": 2048000,
            "rowLimit": 10000
          },
          "inputWidgets": {},
          "nuid": "08a12191-5d65-4409-a17b-dc13721db2a3",
          "showTitle": false,
          "tableResultSettingsMap": {},
          "title": ""
        }
      }
    },
    {
      "cell_type": "code",
      "source": [
        "# Reshape earthquake data\n",
        "df = (\n",
        "    df\n",
        "    .select(\n",
        "        'id',\n",
        "        col('geometry.coordinates').getItem(0).alias('longitude'),\n",
        "        col('geometry.coordinates').getItem(1).alias('latitude'),\n",
        "        col('geometry.coordinates').getItem(2).alias('elevation'),\n",
        "        col('properties.title').alias('title'),\n",
        "        col('properties.place').alias('place_description'),\n",
        "        col('properties.sig').alias('sig'),\n",
        "        col('properties.mag').alias('mag'),\n",
        "        col('properties.magType').alias('magType'),\n",
        "        col('properties.time').alias('time'),\n",
        "        col('properties.updated').alias('updated')\n",
        "    )\n",
        ")"
      ],
      "outputs": [
        {
          "output_type": "display_data",
          "data": {
            "application/vnd.livy.statement-meta+json": {
              "spark_pool": "synonly",
              "statement_id": 7,
              "statement_ids": [
                7
              ],
              "state": "finished",
              "livy_statement_state": "available",
              "spark_jobs": null,
              "session_id": "15",
              "normalized_state": "finished",
              "queued_time": "2025-01-12T10:34:37.8180285Z",
              "session_start_time": null,
              "execution_start_time": "2025-01-12T10:35:38.2787565Z",
              "execution_finish_time": "2025-01-12T10:35:38.4330992Z",
              "parent_msg_id": "4b780d5e-516a-43ce-9dac-ee3329cc121e"
            },
            "text/plain": "StatementMeta(synonly, 15, 7, Finished, Available, Finished)"
          },
          "metadata": {}
        }
      ],
      "execution_count": 51,
      "metadata": {
        "application/vnd.databricks.v1+cell": {
          "cellMetadata": {
            "byteLimit": 2048000,
            "rowLimit": 10000
          },
          "inputWidgets": {},
          "nuid": "2f477bf7-aa46-4d2d-bbbd-83dff93028bd",
          "showTitle": false,
          "tableResultSettingsMap": {},
          "title": ""
        }
      }
    },
    {
      "cell_type": "code",
      "source": [
        "df"
      ],
      "outputs": [
        {
          "output_type": "display_data",
          "data": {
            "application/vnd.livy.statement-meta+json": {
              "spark_pool": "synonly",
              "statement_id": 8,
              "statement_ids": [
                8
              ],
              "state": "finished",
              "livy_statement_state": "available",
              "spark_jobs": null,
              "session_id": "15",
              "normalized_state": "finished",
              "queued_time": "2025-01-12T10:34:37.8582296Z",
              "session_start_time": null,
              "execution_start_time": "2025-01-12T10:35:38.5585787Z",
              "execution_finish_time": "2025-01-12T10:35:38.7139892Z",
              "parent_msg_id": "b65065dc-0b84-4618-abcf-d57916ef23c5"
            },
            "text/plain": "StatementMeta(synonly, 15, 8, Finished, Available, Finished)"
          },
          "metadata": {}
        },
        {
          "output_type": "execute_result",
          "execution_count": 17,
          "data": {
            "text/plain": "DataFrame[id: string, longitude: double, latitude: double, elevation: double, title: string, place_description: string, sig: bigint, mag: double, magType: string, time: bigint, updated: bigint]"
          },
          "metadata": {}
        }
      ],
      "execution_count": 52,
      "metadata": {
        "application/vnd.databricks.v1+cell": {
          "cellMetadata": {
            "byteLimit": 2048000,
            "rowLimit": 10000
          },
          "inputWidgets": {},
          "nuid": "fb1bc1b6-d0fd-4e3c-bfa0-87e38c3cd27b",
          "showTitle": false,
          "tableResultSettingsMap": {},
          "title": ""
        }
      }
    },
    {
      "cell_type": "code",
      "source": [
        "df.head()"
      ],
      "outputs": [
        {
          "output_type": "display_data",
          "data": {
            "application/vnd.livy.statement-meta+json": {
              "spark_pool": "synonly",
              "statement_id": 9,
              "statement_ids": [
                9
              ],
              "state": "finished",
              "livy_statement_state": "available",
              "spark_jobs": null,
              "session_id": "15",
              "normalized_state": "finished",
              "queued_time": "2025-01-12T10:34:37.898558Z",
              "session_start_time": null,
              "execution_start_time": "2025-01-12T10:35:38.8429923Z",
              "execution_finish_time": "2025-01-12T10:35:44.2025631Z",
              "parent_msg_id": "37575adf-6bdf-48a5-b448-459954bad68a"
            },
            "text/plain": "StatementMeta(synonly, 15, 9, Finished, Available, Finished)"
          },
          "metadata": {}
        },
        {
          "output_type": "execute_result",
          "execution_count": 19,
          "data": {
            "text/plain": "Row(id='ci40838207', longitude=-116.1651667, latitude=33.2081667, elevation=7.72, title='M 1.1 - 8 km NNW of Ocotillo Wells, CA', place_description='8 km NNW of Ocotillo Wells, CA', sig=20, mag=1.13, magType='ml', time=1736639492580, updated=1736639790427)"
          },
          "metadata": {}
        }
      ],
      "execution_count": 53,
      "metadata": {
        "application/vnd.databricks.v1+cell": {
          "cellMetadata": {
            "byteLimit": 2048000,
            "rowLimit": 10000
          },
          "inputWidgets": {},
          "nuid": "a6bf076c-dfa6-4dc5-82bd-7bb9beeab778",
          "showTitle": false,
          "tableResultSettingsMap": {},
          "title": ""
        }
      }
    },
    {
      "cell_type": "code",
      "source": [
        "# Validate data: Check for missing or null values\n",
        "df = (\n",
        "    df\n",
        "    .withColumn('longitude', when(isnull(col('longitude')), 0).otherwise(col('longitude')))\n",
        "    .withColumn('latitude', when(isnull(col('latitude')), 0).otherwise(col('latitude')))\n",
        "    .withColumn('time', when(isnull(col('time')), 0).otherwise(col('time')))\n",
        ")"
      ],
      "outputs": [
        {
          "output_type": "display_data",
          "data": {
            "application/vnd.livy.statement-meta+json": {
              "spark_pool": "synonly",
              "statement_id": 10,
              "statement_ids": [
                10
              ],
              "state": "finished",
              "livy_statement_state": "available",
              "spark_jobs": null,
              "session_id": "15",
              "normalized_state": "finished",
              "queued_time": "2025-01-12T10:34:37.9482967Z",
              "session_start_time": null,
              "execution_start_time": "2025-01-12T10:35:44.333709Z",
              "execution_finish_time": "2025-01-12T10:35:44.4870633Z",
              "parent_msg_id": "5f1250e0-bc86-4379-966c-c7e20414a154"
            },
            "text/plain": "StatementMeta(synonly, 15, 10, Finished, Available, Finished)"
          },
          "metadata": {}
        }
      ],
      "execution_count": 54,
      "metadata": {
        "application/vnd.databricks.v1+cell": {
          "cellMetadata": {
            "byteLimit": 2048000,
            "rowLimit": 10000
          },
          "inputWidgets": {},
          "nuid": "9ed13efd-7651-49a1-9591-54eccada4f38",
          "showTitle": false,
          "tableResultSettingsMap": {},
          "title": ""
        }
      }
    },
    {
      "cell_type": "code",
      "source": [
        "# Convert 'time' and 'updated' to timestamp from Unix time\n",
        "df = (\n",
        "    df\n",
        "    .withColumn('time', (col('time') / 1000).cast(TimestampType()))\n",
        "    .withColumn('updated', (col('updated') / 1000).cast(TimestampType()))\n",
        ")"
      ],
      "outputs": [
        {
          "output_type": "display_data",
          "data": {
            "application/vnd.livy.statement-meta+json": {
              "spark_pool": "synonly",
              "statement_id": 11,
              "statement_ids": [
                11
              ],
              "state": "finished",
              "livy_statement_state": "available",
              "spark_jobs": null,
              "session_id": "15",
              "normalized_state": "finished",
              "queued_time": "2025-01-12T10:34:37.9994769Z",
              "session_start_time": null,
              "execution_start_time": "2025-01-12T10:35:44.61764Z",
              "execution_finish_time": "2025-01-12T10:35:44.7622318Z",
              "parent_msg_id": "4648e0cd-2d6d-44bc-be26-d285a3d63ab5"
            },
            "text/plain": "StatementMeta(synonly, 15, 11, Finished, Available, Finished)"
          },
          "metadata": {}
        }
      ],
      "execution_count": 55,
      "metadata": {
        "application/vnd.databricks.v1+cell": {
          "cellMetadata": {
            "byteLimit": 2048000,
            "rowLimit": 10000
          },
          "inputWidgets": {},
          "nuid": "23e4bf83-507d-444b-b315-49287e79dc71",
          "showTitle": false,
          "tableResultSettingsMap": {},
          "title": ""
        }
      }
    },
    {
      "cell_type": "code",
      "source": [
        "df.head()"
      ],
      "outputs": [
        {
          "output_type": "display_data",
          "data": {
            "application/vnd.livy.statement-meta+json": {
              "spark_pool": "synonly",
              "statement_id": 12,
              "statement_ids": [
                12
              ],
              "state": "finished",
              "livy_statement_state": "available",
              "spark_jobs": null,
              "session_id": "15",
              "normalized_state": "finished",
              "queued_time": "2025-01-12T10:34:38.0494564Z",
              "session_start_time": null,
              "execution_start_time": "2025-01-12T10:35:44.9258919Z",
              "execution_finish_time": "2025-01-12T10:35:46.0065508Z",
              "parent_msg_id": "b5479ecf-16d6-47e1-9784-73984a58d774"
            },
            "text/plain": "StatementMeta(synonly, 15, 12, Finished, Available, Finished)"
          },
          "metadata": {}
        },
        {
          "output_type": "execute_result",
          "execution_count": 25,
          "data": {
            "text/plain": "Row(id='ci40838207', longitude=-116.1651667, latitude=33.2081667, elevation=7.72, title='M 1.1 - 8 km NNW of Ocotillo Wells, CA', place_description='8 km NNW of Ocotillo Wells, CA', sig=20, mag=1.13, magType='ml', time=datetime.datetime(2025, 1, 11, 23, 51, 32, 580000), updated=datetime.datetime(2025, 1, 11, 23, 56, 30, 427000))"
          },
          "metadata": {}
        }
      ],
      "execution_count": 56,
      "metadata": {
        "application/vnd.databricks.v1+cell": {
          "cellMetadata": {
            "byteLimit": 2048000,
            "rowLimit": 10000
          },
          "inputWidgets": {},
          "nuid": "fc2f0d46-95b0-42d5-8655-4dc90860b00c",
          "showTitle": false,
          "tableResultSettingsMap": {},
          "title": ""
        }
      }
    },
    {
      "cell_type": "code",
      "source": [
        "# Save the transformed DataFrame to the Silver container\n",
        "silver_data = f\"{silver_adls}earthquake_events_silver/\""
      ],
      "outputs": [
        {
          "output_type": "display_data",
          "data": {
            "application/vnd.livy.statement-meta+json": {
              "spark_pool": "synonly",
              "statement_id": 13,
              "statement_ids": [
                13
              ],
              "state": "finished",
              "livy_statement_state": "available",
              "spark_jobs": null,
              "session_id": "15",
              "normalized_state": "finished",
              "queued_time": "2025-01-12T10:34:38.1089092Z",
              "session_start_time": null,
              "execution_start_time": "2025-01-12T10:35:46.1496302Z",
              "execution_finish_time": "2025-01-12T10:35:46.2902422Z",
              "parent_msg_id": "c55ca2b6-2eec-4341-8196-b421fb311f95"
            },
            "text/plain": "StatementMeta(synonly, 15, 13, Finished, Available, Finished)"
          },
          "metadata": {}
        }
      ],
      "execution_count": 57,
      "metadata": {
        "application/vnd.databricks.v1+cell": {
          "cellMetadata": {},
          "inputWidgets": {},
          "nuid": "21b7e5d1-12de-4afa-b4f1-13b5c66dc75d",
          "showTitle": false,
          "tableResultSettingsMap": {},
          "title": ""
        }
      }
    },
    {
      "cell_type": "code",
      "source": [
        "# Append DataFrame to Silver container in Parquet format\n",
        "df.write.mode('append').parquet(silver_data)"
      ],
      "outputs": [
        {
          "output_type": "display_data",
          "data": {
            "application/vnd.livy.statement-meta+json": {
              "spark_pool": "synonly",
              "statement_id": 14,
              "statement_ids": [
                14
              ],
              "state": "finished",
              "livy_statement_state": "available",
              "spark_jobs": null,
              "session_id": "15",
              "normalized_state": "finished",
              "queued_time": "2025-01-12T10:34:38.1491038Z",
              "session_start_time": null,
              "execution_start_time": "2025-01-12T10:35:46.414231Z",
              "execution_finish_time": "2025-01-12T10:35:53.2630262Z",
              "parent_msg_id": "24fd6099-1238-4976-a680-d07d4deb83f2"
            },
            "text/plain": "StatementMeta(synonly, 15, 14, Finished, Available, Finished)"
          },
          "metadata": {}
        }
      ],
      "execution_count": 58,
      "metadata": {
        "application/vnd.databricks.v1+cell": {
          "cellMetadata": {},
          "inputWidgets": {},
          "nuid": "c6d79f24-e7c7-4a8a-a936-9d4dc9e151a3",
          "showTitle": false,
          "tableResultSettingsMap": {},
          "title": ""
        }
      }
    },
    {
      "cell_type": "code",
      "source": [
        "mssparkutils.notebook.exit(silver_data)"
      ],
      "outputs": [
        {
          "output_type": "display_data",
          "data": {
            "application/vnd.livy.statement-meta+json": {
              "spark_pool": "synonly",
              "statement_id": 15,
              "statement_ids": [
                15
              ],
              "state": "finished",
              "livy_statement_state": "available",
              "spark_jobs": null,
              "session_id": "15",
              "normalized_state": "finished",
              "queued_time": "2025-01-12T10:34:38.1982998Z",
              "session_start_time": null,
              "execution_start_time": "2025-01-12T10:35:53.3925208Z",
              "execution_finish_time": "2025-01-12T10:35:53.5547337Z",
              "parent_msg_id": "f983971a-8bb4-40f2-8958-3c29b0090d48"
            },
            "text/plain": "StatementMeta(synonly, 15, 15, Finished, Available, Finished)"
          },
          "metadata": {}
        },
        {
          "output_type": "stream",
          "name": "stdout",
          "text": [
            "abfss://silver@synonly.dfs.core.windows.net/earthquake_events_silver/\n"
          ]
        }
      ],
      "execution_count": 59,
      "metadata": {
        "application/vnd.databricks.v1+cell": {
          "cellMetadata": {},
          "inputWidgets": {},
          "nuid": "23e0c26a-163d-4519-b11d-e86c2d15446d",
          "showTitle": false,
          "tableResultSettingsMap": {},
          "title": ""
        }
      }
    },
    {
      "cell_type": "markdown",
      "source": [],
      "metadata": {
        "nteract": {
          "transient": {
            "deleting": false
          }
        }
      }
    }
  ],
  "metadata": {
    "kernelspec": {
      "name": "synapse_pyspark",
      "language": "Python",
      "display_name": "Synapse PySpark"
    },
    "language_info": {
      "name": "python"
    },
    "kernel_info": {
      "name": "synapse_pyspark"
    },
    "description": null,
    "save_output": true,
    "synapse_widget": {
      "version": "0.1",
      "state": {}
    }
  },
  "nbformat": 4,
  "nbformat_minor": 2
}